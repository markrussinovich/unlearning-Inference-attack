{
 "cells": [
  {
   "cell_type": "markdown",
   "id": "0df9f310",
   "metadata": {},
   "source": [
    "# Attribute Inference"
   ]
  },
  {
   "cell_type": "code",
   "execution_count": 1,
   "id": "57df04a4",
   "metadata": {
    "scrolled": true
   },
   "outputs": [
    {
     "name": "stdout",
     "output_type": "stream",
     "text": [
      "1.9.0+cu102\n"
     ]
    }
   ],
   "source": [
    "import torch\n",
    "print(torch.__version__)"
   ]
  },
  {
   "cell_type": "markdown",
   "id": "27cd8a09",
   "metadata": {},
   "source": [
    "Implememntation of Attribute Inference Attack according to Song, C., & Shmatikov, V. (2019). Overlearning reveals sensitive attributes. arXiv preprint arXiv:1905.11742.\n",
    "\n",
    "Some parts based on https://github.com/pytorch/tutorials/blob/master/beginner_source/blitz/cifar10_tutorial.py and https://gist.github.com/erykml/cf4e23cf3ab8897b287754dcb11e2f84#file-lenet_network-py"
   ]
  },
  {
   "cell_type": "code",
   "execution_count": 2,
   "id": "ee441944",
   "metadata": {},
   "outputs": [],
   "source": [
    "import pandas as pd\n",
    "import glob\n",
    "import torch\n",
    "from torch.utils.data import Dataset, DataLoader\n",
    "import matplotlib.pyplot as plt\n",
    "from torchvision import transforms\n",
    "import numpy as np\n",
    "import torch.nn as nn\n",
    "import torch.optim as optim\n",
    "import copy\n",
    "import PIL\n",
    "import pickle"
   ]
  },
  {
   "cell_type": "code",
   "execution_count": 3,
   "id": "3fbb6466",
   "metadata": {},
   "outputs": [],
   "source": [
    "SEED = 42\n",
    "torch.manual_seed(SEED)\n",
    "torch.cuda.manual_seed(SEED)"
   ]
  },
  {
   "cell_type": "markdown",
   "id": "69358ec8",
   "metadata": {},
   "source": [
    "## Split dataset (as described in the paper)"
   ]
  },
  {
   "cell_type": "code",
   "execution_count": 9,
   "id": "07df6761",
   "metadata": {},
   "outputs": [
    {
     "data": {
      "text/plain": [
       "<bound method NDFrame.keys of                                             filename gender race  \\\n",
       "0      UTKFace/29_0_1_20170116002932698.jpg.chip.jpg      0    1   \n",
       "1      UTKFace/27_0_3_20170104200540418.jpg.chip.jpg      0    3   \n",
       "2      UTKFace/41_1_0_20170103163256248.jpg.chip.jpg      1    0   \n",
       "3      UTKFace/34_0_3_20170119171715544.jpg.chip.jpg      0    3   \n",
       "4      UTKFace/26_1_0_20170116173105204.jpg.chip.jpg      1    0   \n",
       "...                                              ...    ...  ...   \n",
       "20601  UTKFace/45_0_4_20170117200837845.jpg.chip.jpg      0    4   \n",
       "20602  UTKFace/37_0_3_20170119202410749.jpg.chip.jpg      0    3   \n",
       "20603  UTKFace/50_0_0_20170104021859988.jpg.chip.jpg      0    0   \n",
       "20604  UTKFace/18_1_3_20170117135709510.jpg.chip.jpg      1    3   \n",
       "20605  UTKFace/45_0_1_20170113181825862.jpg.chip.jpg      0    1   \n",
       "\n",
       "                                                   image  \n",
       "0      [[[82, 163, 182], [22, 38, 38], [47, 35, 23], ...  \n",
       "1      [[[45, 33, 11], [43, 31, 15], [27, 17, 8], [13...  \n",
       "2      [[[154, 141, 96], [89, 78, 60], [96, 81, 76], ...  \n",
       "3      [[[109, 115, 115], [20, 32, 28], [22, 25, 14],...  \n",
       "4      [[[58, 59, 41], [83, 76, 58], [118, 101, 85], ...  \n",
       "...                                                  ...  \n",
       "20601  [[[248, 183, 3], [250, 181, 0], [253, 175, 7],...  \n",
       "20602  [[[18, 26, 37], [20, 30, 40], [28, 32, 41], [4...  \n",
       "20603  [[[42, 55, 46], [17, 27, 28], [16, 23, 29], [2...  \n",
       "20604  [[[45, 24, 29], [53, 30, 36], [59, 34, 37], [7...  \n",
       "20605  [[[122, 115, 107], [104, 95, 86], [114, 102, 9...  \n",
       "\n",
       "[20606 rows x 4 columns]>"
      ]
     },
     "metadata": {},
     "output_type": "display_data"
    }
   ],
   "source": [
    "RANDOM_SEED = 42\n",
    "PATH = 'UTKFace/'\n",
    "TEST_SPLIT = 0.2\n",
    "ATTACK_SPLIT = 0.5 # 50% of training data\n",
    "\n",
    "#samples=pd.DataFrame(columns=['filename','gender','race'])\n",
    "#samples['filename'] = pd.Series([file for file in glob.glob(PATH + '*') \n",
    "                                 #if len(file) == len(PATH) + len('61_1_0_20170104183517277.jpg.chip.jpg')])\n",
    "\n",
    "#samples['gender'] = samples['filename'].apply(lambda x: (x.split(\"_\")[1]))\n",
    "#samples['race'] = samples['filename'].apply(lambda x: (x.split(\"_\")[2]))\n",
    "#samples['image'] = samples['filename'].apply(lambda x: (np.asarray(PIL.Image.open(x).resize((50,50), PIL.Image.NEAREST))))\n",
    "\n",
    "#samples.to_pickle(\"UTKFaceDF.pkl\")\n",
    "\n",
    "samples = pd.read_pickle('UTKFaceDF.pkl')\n",
    "\n",
    "np.random.seed(RANDOM_SEED)\n",
    "\n",
    "dataset_size = len(samples)\n",
    "indices = list(range(dataset_size))\n",
    "split = int(np.floor(TEST_SPLIT * dataset_size))\n",
    "np.random.shuffle(indices)\n",
    "train_indices, test_indices = indices[split:], indices[:split]\n",
    "\n",
    "attack_indices = copy.deepcopy(train_indices)\n",
    "attack_split = int(np.floor(ATTACK_SPLIT * len(train_indices)))\n",
    "np.random.shuffle(attack_indices)\n",
    "attack_indices = attack_indices[attack_split:]\n",
    "\n",
    "train_samples = samples.iloc[train_indices]\n",
    "test_samples = samples.iloc[test_indices]\n",
    "attack_samples = samples.iloc[attack_indices]\n",
    "\n",
    "len(attack_samples[attack_samples['race'] == '4'])\n",
    "len(samples)\n",
    "display(samples.keys)"
   ]
  },
  {
   "cell_type": "markdown",
   "id": "f1ca01ff",
   "metadata": {},
   "source": [
    "## Costum Dataset Class"
   ]
  },
  {
   "cell_type": "code",
   "execution_count": 10,
   "id": "6ee7b65b",
   "metadata": {},
   "outputs": [],
   "source": [
    "class UTKFace(Dataset):\n",
    "    \"\"\"UTK Face dataset.\"\"\"\n",
    "\n",
    "    def __init__(self, samples, label, transform=None):\n",
    "        \"\"\"\n",
    "            samples (df): df containing the path and labels of each sample (columns=['filename','gender','race'])\n",
    "            transform (callable, optional): Optional transform to be applied on a sample.\n",
    "        \"\"\"\n",
    "        self.samples = samples\n",
    "        self.label = label\n",
    "        self.transform = transform\n",
    "\n",
    "    def __len__(self):\n",
    "        return len(self.samples)\n",
    "\n",
    "    def __getitem__(self, idx):\n",
    "        if torch.is_tensor(idx):\n",
    "            idx = idx.tolist()\n",
    "        \n",
    "        image_array = self.samples.iloc[idx, 3]\n",
    "        image = PIL.Image.fromarray(image_array)\n",
    "        \n",
    "        if self.transform:\n",
    "            image = self.transform(image)\n",
    "        \n",
    "        if self.label =='gender':\n",
    "            label = int(self.samples.iloc[idx, 1])\n",
    "            sample =  {'image': image, 'gender': label}\n",
    "            \n",
    "        if self.label == 'race':\n",
    "            label = int(self.samples.iloc[idx, 2])\n",
    "            sample =  {'image': image, 'race': label}\n",
    "        \n",
    "        return sample"
   ]
  },
  {
   "cell_type": "markdown",
   "id": "966975d9",
   "metadata": {},
   "source": [
    "## Load Data and Display some samples"
   ]
  },
  {
   "cell_type": "code",
   "execution_count": 11,
   "id": "77f54723",
   "metadata": {},
   "outputs": [],
   "source": [
    "transform = transforms.Compose([\n",
    "        transforms.Resize([50, 50]),\n",
    "        transforms.ToTensor(),\n",
    "        transforms.Normalize((0.5, 0.5, 0.5), (0.5, 0.5, 0.5))])"
   ]
  },
  {
   "cell_type": "code",
   "execution_count": 12,
   "id": "671b2536",
   "metadata": {},
   "outputs": [],
   "source": [
    "dataset = UTKFace(samples=train_samples, label='gender',transform=transform)"
   ]
  },
  {
   "cell_type": "code",
   "execution_count": 13,
   "id": "8418c009",
   "metadata": {},
   "outputs": [
    {
     "data": {
      "text/plain": [
       "'Number of Samples: 16485'"
      ]
     },
     "metadata": {},
     "output_type": "display_data"
    },
    {
     "data": {
      "text/plain": [
       "'Image Dim: torch.Size([3, 50, 50])'"
      ]
     },
     "metadata": {},
     "output_type": "display_data"
    },
    {
     "name": "stderr",
     "output_type": "stream",
     "text": [
      "Clipping input data to the valid range for imshow with RGB data ([0..1] for floats or [0..255] for integers).\n",
      "Clipping input data to the valid range for imshow with RGB data ([0..1] for floats or [0..255] for integers).\n",
      "Clipping input data to the valid range for imshow with RGB data ([0..1] for floats or [0..255] for integers).\n",
      "Clipping input data to the valid range for imshow with RGB data ([0..1] for floats or [0..255] for integers).\n"
     ]
    },
    {
     "data": {
      "image/png": "[encoded data removed]",
      "text/plain": [
       "<Figure size 432x288 with 4 Axes>"
      ]
     },
     "metadata": {
      "needs_background": "light"
     },
     "output_type": "display_data"
    }
   ],
   "source": [
    "display('Number of Samples: ' + str(len(dataset)))\n",
    "display('Image Dim: ' + str(dataset[0]['image'].shape))\n",
    "\n",
    "fig = plt.figure()\n",
    "\n",
    "for i in range(len(dataset)):\n",
    "    sample = dataset[i]\n",
    "\n",
    "    ax = plt.subplot(1, 4, i + 1)\n",
    "    plt.tight_layout()\n",
    "    ax.set_title('Gender: ' + str(sample['gender']))\n",
    "    ax.axis('off')\n",
    "    plt.imshow(sample['image'].permute(1, 2, 0).numpy())\n",
    "\n",
    "    if i == 3:\n",
    "        plt.show()\n",
    "        break\n"
   ]
  },
  {
   "cell_type": "markdown",
   "id": "b823fae9",
   "metadata": {},
   "source": [
    "# Target Model"
   ]
  },
  {
   "cell_type": "markdown",
   "id": "82e041ad",
   "metadata": {},
   "source": [
    "## CNN as described in the paper"
   ]
  },
  {
   "cell_type": "code",
   "execution_count": 14,
   "id": "025d291a",
   "metadata": {},
   "outputs": [],
   "source": [
    "class LeNet(nn.Module):\n",
    "    def __init__(self):\n",
    "        super().__init__()\n",
    "        \n",
    "        self.feature_extractor = nn.Sequential(\n",
    "            nn.Conv2d(in_channels=3, out_channels=16, kernel_size=3, stride=1),\n",
    "            nn.Tanh(),\n",
    "            nn.AvgPool2d(kernel_size=2),\n",
    "            nn.Conv2d(in_channels=16, out_channels=32, kernel_size=3, stride=1),\n",
    "            nn.Tanh(),\n",
    "            nn.AvgPool2d(kernel_size=2),\n",
    "            nn.Conv2d(in_channels=32, out_channels=64, kernel_size=3, stride=1),\n",
    "            nn.Tanh(),\n",
    "            nn.AvgPool2d(kernel_size=2)\n",
    "        )\n",
    "        \n",
    "        self.classifier = nn.Sequential(\n",
    "            nn.Linear(1024, 128),\n",
    "            nn.Tanh(),\n",
    "            nn.Linear(128, 64),\n",
    "            nn.Tanh()\n",
    "        )\n",
    "        \n",
    "        self.output = nn.Linear(64, 2)\n",
    "\n",
    "    def forward(self, x):\n",
    "        x = self.feature_extractor(x)\n",
    "        x = torch.flatten(x, 1)\n",
    "        x = self.classifier(x)\n",
    "        y = self.output(x)\n",
    "        return y, x"
   ]
  },
  {
   "cell_type": "markdown",
   "id": "216925c3",
   "metadata": {},
   "source": [
    "## Training (parameters as described in the paper)"
   ]
  },
  {
   "cell_type": "code",
   "execution_count": 15,
   "id": "93dc4628",
   "metadata": {},
   "outputs": [],
   "source": [
    "DEVICE = torch.device('cuda' if torch.cuda.is_available() else 'cpu')\n",
    "LEARNING_RATE = 0.001\n",
    "BATCH_SIZE = 128\n",
    "EPOCHS = 30"
   ]
  },
  {
   "cell_type": "code",
   "execution_count": 16,
   "id": "04da685e",
   "metadata": {},
   "outputs": [],
   "source": [
    "net = LeNet().to(DEVICE)\n",
    "criterion = nn.CrossEntropyLoss()\n",
    "optimizer = torch.optim.Adam(net.parameters(), lr=LEARNING_RATE)"
   ]
  },
  {
   "cell_type": "code",
   "execution_count": 17,
   "id": "430708a4",
   "metadata": {},
   "outputs": [],
   "source": [
    "trainloader = torch.utils.data.DataLoader(UTKFace(train_samples, 'gender', transform), \n",
    "                                            batch_size=BATCH_SIZE)\n",
    "\n",
    "testloader = torch.utils.data.DataLoader(UTKFace(test_samples, 'gender', transform), \n",
    "                                            batch_size=BATCH_SIZE)"
   ]
  },
  {
   "cell_type": "code",
   "execution_count": 18,
   "id": "d2a1355f",
   "metadata": {},
   "outputs": [],
   "source": [
    "#for epoch in range(EPOCHS):\n",
    "#\n",
    "#    running_loss = 0.0\n",
    "#    for i, data in enumerate(trainloader, 0):\n",
    "#        # get the inputs; data is a list of [inputs, labels]\n",
    "#        inputs, labels = data.values()\n",
    "#        \n",
    "#        # zero the parameter gradients\n",
    "#        optimizer.zero_grad()\n",
    "#\n",
    "#        # forward + backward + optimize\n",
    "#        outputs, _ = net(inputs)\n",
    "#        loss = criterion(outputs, labels)\n",
    "#        loss.backward()\n",
    "#        optimizer.step()\n",
    "#\n",
    "#        # print statistics\n",
    "#        running_loss += loss.item()\n",
    "#        if i % 100 == 99:    # print every 100 batches\n",
    "#            print('[%d, %5d] loss: %.3f' %\n",
    "#                  (epoch + 1, i + 1, running_loss / 100))\n",
    "#            running_loss = 0.0\n",
    "#\n",
    "#print('Finished Training')"
   ]
  },
  {
   "cell_type": "code",
   "execution_count": 19,
   "id": "0c3fcf33",
   "metadata": {},
   "outputs": [],
   "source": [
    "PATH = './models/target_model_' + str(EPOCHS) + '.pth'\n",
    "#torch.save(net.state_dict(), PATH)"
   ]
  },
  {
   "cell_type": "markdown",
   "id": "ba09f481",
   "metadata": {},
   "source": [
    "## Testing"
   ]
  },
  {
   "cell_type": "code",
   "execution_count": 20,
   "id": "57fbf2b6",
   "metadata": {},
   "outputs": [
    {
     "data": {
      "text/plain": [
       "<All keys matched successfully>"
      ]
     },
     "execution_count": 20,
     "metadata": {},
     "output_type": "execute_result"
    }
   ],
   "source": [
    "net = LeNet()\n",
    "net.load_state_dict(torch.load(PATH))"
   ]
  },
  {
   "cell_type": "code",
   "execution_count": 21,
   "id": "f0e5bf22",
   "metadata": {},
   "outputs": [
    {
     "name": "stdout",
     "output_type": "stream",
     "text": [
      "Accuracy: 90 %\n"
     ]
    }
   ],
   "source": [
    "correct = 0\n",
    "total = 0\n",
    "# since we're not training, we don't need to calculate the gradients for our outputs\n",
    "with torch.no_grad():\n",
    "    for data in testloader:\n",
    "        images, labels = data.values()\n",
    "        # calculate outputs by running images through the network\n",
    "        outputs, _ = net(images)\n",
    "        # the class with the highest energy is what we choose as prediction\n",
    "        _, predicted = torch.max(outputs.data, 1)\n",
    "        total += labels.size(0)\n",
    "        correct += (predicted == labels).sum().item()\n",
    "\n",
    "print('Accuracy: %d %%' % (\n",
    "    100 * correct / total))"
   ]
  },
  {
   "cell_type": "code",
   "execution_count": 16,
   "id": "5644e259",
   "metadata": {},
   "outputs": [
    {
     "name": "stdout",
     "output_type": "stream",
     "text": [
      "Accuracy for class 0     is: 30.7 %\n",
      "Accuracy for class 1     is: 75.3 %\n"
     ]
    }
   ],
   "source": [
    "classes = ['0', '1']\n",
    "\n",
    "# prepare to count predictions for each class\n",
    "correct_pred = {classname: 0 for classname in classes}\n",
    "total_pred = {classname: 0 for classname in classes}\n",
    "\n",
    "# again no gradients needed\n",
    "with torch.no_grad():\n",
    "    for data in testloader:\n",
    "        images, labels = data.values()\n",
    "        outputs, _ = net(images)\n",
    "        _, predictions = torch.max(outputs, 1)\n",
    "        # collect the correct predictions for each class\n",
    "        for label, prediction in zip(labels, predictions):\n",
    "            if label == prediction:\n",
    "                correct_pred[classes[label]] += 1\n",
    "            total_pred[classes[label]] += 1\n",
    "\n",
    "\n",
    "# print accuracy for each class\n",
    "for classname, correct_count in correct_pred.items():\n",
    "    accuracy = 100 * float(correct_count) / total_pred[classname]\n",
    "    print(\"Accuracy for class {:5s} is: {:.1f} %\".format(classname,\n",
    "                                                   accuracy))"
   ]
  },
  {
   "cell_type": "markdown",
   "id": "4b005d2d",
   "metadata": {},
   "source": [
    "# ATTACK"
   ]
  },
  {
   "cell_type": "markdown",
   "id": "753c100e",
   "metadata": {},
   "source": [
    "## Attack Dataset Class"
   ]
  },
  {
   "cell_type": "code",
   "execution_count": 17,
   "id": "08d2c001",
   "metadata": {},
   "outputs": [],
   "source": [
    "class AttackData(Dataset):\n",
    "    \"\"\"UTK Face dataset.\"\"\"\n",
    "\n",
    "    def __init__(self, samples, target_model, transform=None):\n",
    "        \"\"\"\n",
    "        Args:\n",
    "            samples (df): df containing the path and labels of each sample (columns=['filename','gender','race'])\n",
    "            taget_model (nn.Module): model that should be queryed to get the posteriors\n",
    "            transform (callable, optional): Optional transform to be applied on a sample.\n",
    "        \"\"\"\n",
    "        \n",
    "        self.samples = samples\n",
    "        self.target_model = target_model\n",
    "        self.transform = transform\n",
    "\n",
    "    def __len__(self):\n",
    "        return len(self.samples)\n",
    "\n",
    "    def __getitem__(self, idx):\n",
    "        if torch.is_tensor(idx):\n",
    "            idx = idx.tolist()\n",
    "        \n",
    "        img_name = self.samples.iloc[idx, 0]\n",
    "        image = PIL.Image.open(img_name)\n",
    "        if self.transform:\n",
    "            image = self.transform(image)\n",
    "                \n",
    "        _, z = self.target_model(image.unsqueeze(0))\n",
    "        \n",
    "        label = int(self.samples.iloc[idx, 2])\n",
    "        sample =  {'z': z, 'race': label}\n",
    "        \n",
    "        return sample"
   ]
  },
  {
   "cell_type": "markdown",
   "id": "af84e187",
   "metadata": {},
   "source": [
    "## Attack model as described in Paper???"
   ]
  },
  {
   "cell_type": "code",
   "execution_count": 18,
   "id": "556a8464",
   "metadata": {},
   "outputs": [],
   "source": [
    "class AttackNet(nn.Module):\n",
    "    def __init__(self):\n",
    "        super().__init__()\n",
    "\n",
    "        self.classifier = nn.Sequential(\n",
    "            nn.Linear(64, 128),\n",
    "            nn.Tanh(),\n",
    "            nn.Linear(128, 64),\n",
    "            nn.Tanh(),\n",
    "            nn.Linear(64, 5)\n",
    "        )\n",
    "\n",
    "    def forward(self, x):\n",
    "        x = torch.flatten(x, 1)\n",
    "        x = self.classifier(x)\n",
    "        return x"
   ]
  },
  {
   "cell_type": "markdown",
   "id": "200c2622",
   "metadata": {},
   "source": [
    "## Training"
   ]
  },
  {
   "cell_type": "code",
   "execution_count": 19,
   "id": "97d2b68f",
   "metadata": {},
   "outputs": [],
   "source": [
    "DEVICE = torch.device('cuda' if torch.cuda.is_available() else 'cpu')\n",
    "LEARNING_RATE = 0.001\n",
    "BATCH_SIZE = 128\n",
    "EPOCHS = 50"
   ]
  },
  {
   "cell_type": "code",
   "execution_count": 20,
   "id": "16f9d799",
   "metadata": {},
   "outputs": [],
   "source": [
    "attack_net = AttackNet().to(DEVICE)\n",
    "criterion = nn.CrossEntropyLoss()\n",
    "optimizer = torch.optim.Adam(attack_net.parameters(), lr=LEARNING_RATE)"
   ]
  },
  {
   "cell_type": "code",
   "execution_count": 21,
   "id": "fb103e2b",
   "metadata": {},
   "outputs": [],
   "source": [
    "attack_data = AttackData(attack_samples, net, transform)\n",
    "attackloader = torch.utils.data.DataLoader(attack_data, \n",
    "                                            batch_size=BATCH_SIZE)"
   ]
  },
  {
   "cell_type": "code",
   "execution_count": 22,
   "id": "a3b6b4bf",
   "metadata": {},
   "outputs": [],
   "source": [
    "#for epoch in range(EPOCHS):\n",
    "#\n",
    "#    running_loss = 0.0\n",
    "#    for i, data in enumerate(attackloader, 0):\n",
    "#        # get the inputs; data is a list of [inputs, labels]\n",
    "#        inputs, labels = data.values()\n",
    "#        # zero the parameter gradients\n",
    "#        optimizer.zero_grad()\n",
    "#\n",
    "#        # forward + backward + optimize\n",
    "#        outputs = attack_net(inputs)\n",
    "#        loss = criterion(outputs, labels)\n",
    "#        loss.backward()\n",
    "#        optimizer.step()\n",
    "#\n",
    "#        # print statistics\n",
    "#        running_loss += loss.item()\n",
    "#        if i % 20 == 19:    # print every 20 batches\n",
    "#            print('[%d, %5d] loss: %.3f' %\n",
    "#                  (epoch + 1, i + 1, running_loss / 20))\n",
    "#            running_loss = 0.0\n",
    "#\n",
    "#print('Finished Training')"
   ]
  },
  {
   "cell_type": "code",
   "execution_count": 23,
   "id": "4120185a",
   "metadata": {},
   "outputs": [],
   "source": [
    "PATH = './models/attack_model_' + str(EPOCHS) + '.pth'\n",
    "\n",
    "#torch.save(attack_net.state_dict(), PATH)"
   ]
  },
  {
   "cell_type": "markdown",
   "id": "a9ea1492",
   "metadata": {},
   "source": [
    "## Testing"
   ]
  },
  {
   "cell_type": "code",
   "execution_count": 24,
   "id": "33bc13c8",
   "metadata": {},
   "outputs": [
    {
     "data": {
      "text/plain": [
       "<All keys matched successfully>"
      ]
     },
     "execution_count": 24,
     "metadata": {},
     "output_type": "execute_result"
    }
   ],
   "source": [
    "attack_net = AttackNet()\n",
    "attack_net.load_state_dict(torch.load(PATH))"
   ]
  },
  {
   "cell_type": "code",
   "execution_count": 25,
   "id": "3407ad0d",
   "metadata": {},
   "outputs": [],
   "source": [
    "attack_test_loader = torch.utils.data.DataLoader(AttackData(test_samples, net, transform), \n",
    "                                            batch_size=BATCH_SIZE)"
   ]
  },
  {
   "cell_type": "code",
   "execution_count": 26,
   "id": "c0d06430",
   "metadata": {},
   "outputs": [
    {
     "name": "stdout",
     "output_type": "stream",
     "text": [
      "488\n",
      "4121\n",
      "Accuracy: 11 %\n"
     ]
    }
   ],
   "source": [
    "correct = 0\n",
    "total = 0\n",
    "# since we're not training, we don't need to calculate the gradients for our outputs\n",
    "with torch.no_grad():\n",
    "    for data in attack_test_loader:\n",
    "        images, labels = data.values()\n",
    "        # calculate outputs by running images through the network\n",
    "        outputs = attack_net(images)\n",
    "        # the class with the highest energy is what we choose as prediction\n",
    "        _, predicted = torch.max(outputs.data, 1)\n",
    "        total += labels.size(0)\n",
    "        correct += (predicted == labels).sum().item()\n",
    "\n",
    "print(correct)\n",
    "print(total)\n",
    "print('Accuracy: %d %%' % (\n",
    "    100 * correct / total))"
   ]
  },
  {
   "cell_type": "code",
   "execution_count": 27,
   "id": "4de3f473",
   "metadata": {},
   "outputs": [
    {
     "data": {
      "text/plain": [
       "'total predictions:'"
      ]
     },
     "metadata": {},
     "output_type": "display_data"
    },
    {
     "data": {
      "text/plain": [
       "{'0': 1765, '1': 893, '2': 488, '3': 709, '4': 266}"
      ]
     },
     "metadata": {},
     "output_type": "display_data"
    },
    {
     "data": {
      "text/plain": [
       "'correct predictions:'"
      ]
     },
     "metadata": {},
     "output_type": "display_data"
    },
    {
     "data": {
      "text/plain": [
       "{'0': 0, '1': 0, '2': 488, '3': 0, '4': 0}"
      ]
     },
     "metadata": {},
     "output_type": "display_data"
    },
    {
     "name": "stdout",
     "output_type": "stream",
     "text": [
      "Accuracy for class 0     is: 0.0 %\n",
      "Accuracy for class 1     is: 0.0 %\n",
      "Accuracy for class 2     is: 100.0 %\n",
      "Accuracy for class 3     is: 0.0 %\n",
      "Accuracy for class 4     is: 0.0 %\n"
     ]
    }
   ],
   "source": [
    "classes = ['0', '1', '2', '3', '4']\n",
    "\n",
    "# prepare to count predictions for each class\n",
    "correct_pred = {classname: 0 for classname in classes}\n",
    "total_pred = {classname: 0 for classname in classes}\n",
    "\n",
    "# again no gradients needed\n",
    "with torch.no_grad():\n",
    "    for data in attack_test_loader:\n",
    "        images, labels = data.values()\n",
    "        outputs = attack_net(images)\n",
    "        _, predictions = torch.max(outputs, 1)\n",
    "        # collect the correct predictions for each class\n",
    "        for label, prediction in zip(labels, predictions):\n",
    "            if label == prediction:\n",
    "                correct_pred[classes[label]] += 1\n",
    "            total_pred[classes[label]] += 1\n",
    "            \n",
    "display('total predictions:')           \n",
    "display(total_pred)\n",
    "display('correct predictions:')           \n",
    "display(correct_pred)\n",
    "            \n",
    "# print accuracy for each class\n",
    "for classname, correct_count in correct_pred.items():\n",
    "    accuracy = 100 * float(correct_count) / (total_pred[classname] + 0.000001)\n",
    "    print(\"Accuracy for class {:5s} is: {:.1f} %\".format(classname,\n",
    "                                                   accuracy))"
   ]
  },
  {
   "cell_type": "code",
   "execution_count": null,
   "id": "9d61198e",
   "metadata": {},
   "outputs": [],
   "source": []
  },
  {
   "cell_type": "code",
   "execution_count": null,
   "id": "9c2bacb7",
   "metadata": {},
   "outputs": [],
   "source": []
  },
  {
   "cell_type": "code",
   "execution_count": null,
   "id": "d623f550",
   "metadata": {},
   "outputs": [],
   "source": []
  }
 ],
 "metadata": {
  "kernelspec": {
   "display_name": "Python 3",
   "language": "python",
   "name": "python3"
  },
  "language_info": {
   "codemirror_mode": {
    "name": "ipython",
    "version": 3
   },
   "file_extension": ".py",
   "mimetype": "text/x-python",
   "name": "python",
   "nbconvert_exporter": "python",
   "pygments_lexer": "ipython3",
   "version": "3.9.6"
  }
 },
 "nbformat": 4,
 "nbformat_minor": 5
}
